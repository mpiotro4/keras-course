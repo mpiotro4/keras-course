{
 "cells": [
  {
   "cell_type": "markdown",
   "id": "294f5151",
   "metadata": {},
   "source": [
    "## Data Preparation and processing"
   ]
  },
  {
   "cell_type": "code",
   "execution_count": 76,
   "id": "cdcc581f",
   "metadata": {},
   "outputs": [],
   "source": [
    "import numpy as np\n",
    "from random import randint\n",
    "from sklearn.utils import shuffle\n",
    "from sklearn.preprocessing import MinMaxScaler"
   ]
  },
  {
   "cell_type": "code",
   "execution_count": 168,
   "id": "f37ec461",
   "metadata": {},
   "outputs": [],
   "source": [
    "train_labels = []\n",
    "train_samples = []"
   ]
  },
  {
   "cell_type": "code",
   "execution_count": 169,
   "id": "e3b37640",
   "metadata": {},
   "outputs": [],
   "source": [
    "for i in range(50):\n",
    "    # 5% of younfer did experience side effects\n",
    "    random_younger = randint(13, 64)\n",
    "    train_samples.append(random_younger)\n",
    "    train_labels.append(1)\n",
    "    # 5% of older did not experience side effects\n",
    "    random_older = randint(65, 100)\n",
    "    train_samples.append(random_older)\n",
    "    train_labels.append(0)\n",
    "    \n",
    "for i in range(950):\n",
    "    # 95% of younfer did not experience side effects\n",
    "    random_younger = randint(13, 64)\n",
    "    train_samples.append(random_younger)\n",
    "    train_labels.append(0)\n",
    "    # 95% of older did experience side effects\n",
    "    random_older = randint(65, 100)\n",
    "    train_samples.append(random_older)\n",
    "    train_labels.append(1)\n",
    "    \n",
    "    "
   ]
  },
  {
   "cell_type": "code",
   "execution_count": 170,
   "id": "8f78bf66",
   "metadata": {},
   "outputs": [
    {
     "name": "stdout",
     "output_type": "stream",
     "text": [
      "<class 'numpy.ndarray'>\n",
      "<class 'numpy.ndarray'>\n"
     ]
    }
   ],
   "source": [
    "train_labels = np.array(train_labels)\n",
    "train_samples = np.array(train_samples)\n",
    "print(type(train_labels))\n",
    "print(type(train_samples))"
   ]
  },
  {
   "cell_type": "code",
   "execution_count": 171,
   "id": "30ae8daf",
   "metadata": {},
   "outputs": [],
   "source": [
    "train_labels, train_samples = shuffle(train_labels, train_samples)"
   ]
  },
  {
   "cell_type": "code",
   "execution_count": 172,
   "id": "051df6ed",
   "metadata": {},
   "outputs": [],
   "source": [
    "scaler = MinMaxScaler(feature_range=(0,1))\n",
    "scaled_train_samples = scaler.fit_transform(train_samples.reshape(-1,1))"
   ]
  },
  {
   "cell_type": "markdown",
   "id": "1258a962",
   "metadata": {},
   "source": [
    "## Simple tf.keras Sequential Model"
   ]
  },
  {
   "cell_type": "code",
   "execution_count": 173,
   "id": "63b7226c",
   "metadata": {},
   "outputs": [],
   "source": [
    "import tensorflow as tf\n",
    "from tensorflow import keras\n",
    "from tensorflow.keras.models import Sequential\n",
    "from tensorflow.keras.layers import Activation, Dense\n",
    "from tensorflow.keras.optimizers import Adam\n",
    "from tensorflow.keras.metrics import categorical_crossentropy"
   ]
  },
  {
   "cell_type": "code",
   "execution_count": 174,
   "id": "150437be",
   "metadata": {},
   "outputs": [],
   "source": [
    "model = Sequential([\n",
    "    Dense(units=16, input_shape=(1,), activation='relu'),\n",
    "    Dense(units=32, activation='relu'),\n",
    "    Dense(units=2, activation='softmax')\n",
    "])"
   ]
  },
  {
   "cell_type": "code",
   "execution_count": 175,
   "id": "b972d945",
   "metadata": {},
   "outputs": [
    {
     "name": "stdout",
     "output_type": "stream",
     "text": [
      "Model: \"sequential_3\"\n",
      "_________________________________________________________________\n",
      " Layer (type)                Output Shape              Param #   \n",
      "=================================================================\n",
      " dense_9 (Dense)             (None, 16)                32        \n",
      "                                                                 \n",
      " dense_10 (Dense)            (None, 32)                544       \n",
      "                                                                 \n",
      " dense_11 (Dense)            (None, 2)                 66        \n",
      "                                                                 \n",
      "=================================================================\n",
      "Total params: 642\n",
      "Trainable params: 642\n",
      "Non-trainable params: 0\n",
      "_________________________________________________________________\n"
     ]
    }
   ],
   "source": [
    "model.summary()"
   ]
  },
  {
   "cell_type": "code",
   "execution_count": 176,
   "id": "3c2f8d36",
   "metadata": {},
   "outputs": [],
   "source": [
    "model.compile(optimizer=Adam(learning_rate=0.0001), loss='sparse_categorical_crossentropy', metrics=['accuracy'])"
   ]
  },
  {
   "cell_type": "code",
   "execution_count": 177,
   "id": "03edc1cf",
   "metadata": {},
   "outputs": [
    {
     "name": "stdout",
     "output_type": "stream",
     "text": [
      "Epoch 1/30\n",
      "200/200 - 1s - loss: 0.6405 - accuracy: 0.5550 - 794ms/epoch - 4ms/step\n",
      "Epoch 2/30\n",
      "200/200 - 0s - loss: 0.6143 - accuracy: 0.6230 - 232ms/epoch - 1ms/step\n",
      "Epoch 3/30\n",
      "200/200 - 0s - loss: 0.5846 - accuracy: 0.7025 - 227ms/epoch - 1ms/step\n",
      "Epoch 4/30\n",
      "200/200 - 0s - loss: 0.5513 - accuracy: 0.7610 - 226ms/epoch - 1ms/step\n",
      "Epoch 5/30\n",
      "200/200 - 0s - loss: 0.5195 - accuracy: 0.7915 - 222ms/epoch - 1ms/step\n",
      "Epoch 6/30\n",
      "200/200 - 0s - loss: 0.4874 - accuracy: 0.8260 - 225ms/epoch - 1ms/step\n",
      "Epoch 7/30\n",
      "200/200 - 0s - loss: 0.4560 - accuracy: 0.8390 - 231ms/epoch - 1ms/step\n",
      "Epoch 8/30\n",
      "200/200 - 0s - loss: 0.4267 - accuracy: 0.8595 - 221ms/epoch - 1ms/step\n",
      "Epoch 9/30\n",
      "200/200 - 0s - loss: 0.4001 - accuracy: 0.8720 - 224ms/epoch - 1ms/step\n",
      "Epoch 10/30\n",
      "200/200 - 0s - loss: 0.3765 - accuracy: 0.8815 - 235ms/epoch - 1ms/step\n",
      "Epoch 11/30\n",
      "200/200 - 0s - loss: 0.3562 - accuracy: 0.8930 - 235ms/epoch - 1ms/step\n",
      "Epoch 12/30\n",
      "200/200 - 0s - loss: 0.3391 - accuracy: 0.9005 - 225ms/epoch - 1ms/step\n",
      "Epoch 13/30\n",
      "200/200 - 0s - loss: 0.3249 - accuracy: 0.9010 - 224ms/epoch - 1ms/step\n",
      "Epoch 14/30\n",
      "200/200 - 0s - loss: 0.3133 - accuracy: 0.9045 - 236ms/epoch - 1ms/step\n",
      "Epoch 15/30\n",
      "200/200 - 0s - loss: 0.3039 - accuracy: 0.9120 - 226ms/epoch - 1ms/step\n",
      "Epoch 16/30\n",
      "200/200 - 0s - loss: 0.2962 - accuracy: 0.9155 - 225ms/epoch - 1ms/step\n",
      "Epoch 17/30\n",
      "200/200 - 0s - loss: 0.2899 - accuracy: 0.9170 - 246ms/epoch - 1ms/step\n",
      "Epoch 18/30\n",
      "200/200 - 0s - loss: 0.2848 - accuracy: 0.9170 - 230ms/epoch - 1ms/step\n",
      "Epoch 19/30\n",
      "200/200 - 0s - loss: 0.2809 - accuracy: 0.9180 - 223ms/epoch - 1ms/step\n",
      "Epoch 20/30\n",
      "200/200 - 0s - loss: 0.2774 - accuracy: 0.9195 - 224ms/epoch - 1ms/step\n",
      "Epoch 21/30\n",
      "200/200 - 0s - loss: 0.2748 - accuracy: 0.9285 - 224ms/epoch - 1ms/step\n",
      "Epoch 22/30\n",
      "200/200 - 0s - loss: 0.2722 - accuracy: 0.9280 - 230ms/epoch - 1ms/step\n",
      "Epoch 23/30\n",
      "200/200 - 0s - loss: 0.2701 - accuracy: 0.9235 - 245ms/epoch - 1ms/step\n",
      "Epoch 24/30\n",
      "200/200 - 0s - loss: 0.2683 - accuracy: 0.9280 - 225ms/epoch - 1ms/step\n",
      "Epoch 25/30\n",
      "200/200 - 0s - loss: 0.2671 - accuracy: 0.9330 - 225ms/epoch - 1ms/step\n",
      "Epoch 26/30\n",
      "200/200 - 0s - loss: 0.2657 - accuracy: 0.9285 - 223ms/epoch - 1ms/step\n",
      "Epoch 27/30\n",
      "200/200 - 0s - loss: 0.2647 - accuracy: 0.9330 - 225ms/epoch - 1ms/step\n",
      "Epoch 28/30\n",
      "200/200 - 0s - loss: 0.2635 - accuracy: 0.9310 - 222ms/epoch - 1ms/step\n",
      "Epoch 29/30\n",
      "200/200 - 0s - loss: 0.2628 - accuracy: 0.9310 - 227ms/epoch - 1ms/step\n",
      "Epoch 30/30\n",
      "200/200 - 0s - loss: 0.2617 - accuracy: 0.9305 - 228ms/epoch - 1ms/step\n"
     ]
    },
    {
     "data": {
      "text/plain": [
       "<keras.callbacks.History at 0x103e6ed3b20>"
      ]
     },
     "execution_count": 177,
     "metadata": {},
     "output_type": "execute_result"
    }
   ],
   "source": [
    "model.fit(x=scaled_train_samples, y=train_labels, batch_size=10, epochs=30, shuffle=True, verbose=2)"
   ]
  },
  {
   "cell_type": "code",
   "execution_count": 166,
   "id": "8535e4fb",
   "metadata": {},
   "outputs": [
    {
     "ename": "AttributeError",
     "evalue": "'numpy.ndarray' object has no attribute 'length'",
     "output_type": "error",
     "traceback": [
      "\u001b[1;31m---------------------------------------------------------------------------\u001b[0m",
      "\u001b[1;31mAttributeError\u001b[0m                            Traceback (most recent call last)",
      "\u001b[1;32m~\\AppData\\Local\\Temp\\ipykernel_11788\\409878388.py\u001b[0m in \u001b[0;36m<module>\u001b[1;34m\u001b[0m\n\u001b[1;32m----> 1\u001b[1;33m \u001b[0mprint\u001b[0m\u001b[1;33m(\u001b[0m\u001b[0mtrain_labels\u001b[0m\u001b[1;33m.\u001b[0m\u001b[0mlength\u001b[0m\u001b[1;33m)\u001b[0m\u001b[1;33m\u001b[0m\u001b[1;33m\u001b[0m\u001b[0m\n\u001b[0m",
      "\u001b[1;31mAttributeError\u001b[0m: 'numpy.ndarray' object has no attribute 'length'"
     ]
    }
   ],
   "source": []
  }
 ],
 "metadata": {
  "kernelspec": {
   "display_name": "Python 3 (ipykernel)",
   "language": "python",
   "name": "python3"
  },
  "language_info": {
   "codemirror_mode": {
    "name": "ipython",
    "version": 3
   },
   "file_extension": ".py",
   "mimetype": "text/x-python",
   "name": "python",
   "nbconvert_exporter": "python",
   "pygments_lexer": "ipython3",
   "version": "3.9.13"
  }
 },
 "nbformat": 4,
 "nbformat_minor": 5
}
