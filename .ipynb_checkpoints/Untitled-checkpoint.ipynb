{
 "cells": [
  {
   "cell_type": "markdown",
   "id": "18d1054d",
   "metadata": {},
   "source": [
    "## Data Preparation and processing"
   ]
  },
  {
   "cell_type": "code",
   "execution_count": 76,
   "id": "51fe5adf",
   "metadata": {},
   "outputs": [],
   "source": [
    "import numpy as np\n",
    "from random import randint\n",
    "from sklearn.utils import shuffle\n",
    "from sklearn.preprocessing import MinMaxScaler"
   ]
  },
  {
   "cell_type": "code",
   "execution_count": 77,
   "id": "9e45920a",
   "metadata": {},
   "outputs": [],
   "source": [
    "train_labels = []\n",
    "train_samples = []"
   ]
  },
  {
   "cell_type": "code",
   "execution_count": 78,
   "id": "00500201",
   "metadata": {},
   "outputs": [],
   "source": [
    "for i in range(50):\n",
    "    # 5% of younfer did experience side effects\n",
    "    random_younger = randint(13, 64)\n",
    "    train_samples.append(random_younger)\n",
    "    train_labels.append(1)\n",
    "    # 5% of older did not experience side effects\n",
    "    random_older = randint(65, 100)\n",
    "    train_samples.append(random_older)\n",
    "    train_labels.append(0)\n",
    "    \n",
    "for i in range(1000):\n",
    "    # 95% of younfer did not experience side effects\n",
    "    random_younger = randint(13, 64)\n",
    "    train_samples.append(random_younger)\n",
    "    train_labels.append(0)\n",
    "    # 95% of older did experience side effects\n",
    "    random_older = randint(65, 100)\n",
    "    train_samples.append(random_older)\n",
    "    train_labels.append(1)\n",
    "    \n",
    "    "
   ]
  },
  {
   "cell_type": "code",
   "execution_count": 110,
   "id": "10f5fa6a",
   "metadata": {},
   "outputs": [],
   "source": [
    "train_lables = np.array(train_labels)\n",
    "train_samples = np.array(train_samples)\n",
    "train_lables, train_samples = shuffle(train_lables, train_samples)"
   ]
  },
  {
   "cell_type": "code",
   "execution_count": 111,
   "id": "237170d4",
   "metadata": {},
   "outputs": [],
   "source": [
    "scaler = MinMaxScaler(feature_range=(0,1))\n",
    "scaled_train_samples = scaler.fit_transform(train_samples.reshape(-1,1))"
   ]
  },
  {
   "cell_type": "markdown",
   "id": "0e39a7fe",
   "metadata": {},
   "source": [
    "## Simple tf.keras Sequential Model"
   ]
  },
  {
   "cell_type": "code",
   "execution_count": 81,
   "id": "63b7226c",
   "metadata": {},
   "outputs": [],
   "source": [
    "import tensorflow as tf\n",
    "from tensorflow import keras\n",
    "from tensorflow.keras.models import Sequential\n",
    "from tensorflow.keras.layers import Activation, Dense\n",
    "from tensorflow.keras.optimizers import Adam\n",
    "from tensorflow.keras.metrics import categorical_crossentropy"
   ]
  },
  {
   "cell_type": "code",
   "execution_count": 82,
   "id": "150437be",
   "metadata": {},
   "outputs": [],
   "source": [
    "model = Sequential([\n",
    "    Dense(units=16, input_shape=(1,), activation='relu'),\n",
    "    Dense(units=32, activation='relu'),\n",
    "    Dense(units=2, activation='softmax')\n",
    "])"
   ]
  },
  {
   "cell_type": "code",
   "execution_count": 83,
   "id": "b972d945",
   "metadata": {},
   "outputs": [
    {
     "name": "stdout",
     "output_type": "stream",
     "text": [
      "Model: \"sequential_1\"\n",
      "_________________________________________________________________\n",
      " Layer (type)                Output Shape              Param #   \n",
      "=================================================================\n",
      " dense_3 (Dense)             (None, 16)                32        \n",
      "                                                                 \n",
      " dense_4 (Dense)             (None, 32)                544       \n",
      "                                                                 \n",
      " dense_5 (Dense)             (None, 2)                 66        \n",
      "                                                                 \n",
      "=================================================================\n",
      "Total params: 642\n",
      "Trainable params: 642\n",
      "Non-trainable params: 0\n",
      "_________________________________________________________________\n"
     ]
    }
   ],
   "source": [
    "model.summary()"
   ]
  },
  {
   "cell_type": "code",
   "execution_count": 84,
   "id": "c8ec2bb9",
   "metadata": {},
   "outputs": [],
   "source": [
    "model.compile(optimizer=Adam(learning_rate=0.0001), loss='sparse_categorical_crossentropy', metrics=['accuracy'])"
   ]
  },
  {
   "cell_type": "code",
   "execution_count": 112,
   "id": "4ac05de1",
   "metadata": {},
   "outputs": [
    {
     "name": "stdout",
     "output_type": "stream",
     "text": [
      "Epoch 1/30\n",
      "210/210 - 0s - loss: 0.6932 - accuracy: 0.4995 - 231ms/epoch - 1ms/step\n",
      "Epoch 2/30\n",
      "210/210 - 0s - loss: 0.6932 - accuracy: 0.5014 - 223ms/epoch - 1ms/step\n",
      "Epoch 3/30\n",
      "210/210 - 0s - loss: 0.6932 - accuracy: 0.5048 - 223ms/epoch - 1ms/step\n",
      "Epoch 4/30\n",
      "210/210 - 0s - loss: 0.6932 - accuracy: 0.4895 - 262ms/epoch - 1ms/step\n",
      "Epoch 5/30\n",
      "210/210 - 0s - loss: 0.6932 - accuracy: 0.5033 - 270ms/epoch - 1ms/step\n",
      "Epoch 6/30\n",
      "210/210 - 0s - loss: 0.6932 - accuracy: 0.4990 - 228ms/epoch - 1ms/step\n",
      "Epoch 7/30\n",
      "210/210 - 0s - loss: 0.6932 - accuracy: 0.4995 - 238ms/epoch - 1ms/step\n",
      "Epoch 8/30\n",
      "210/210 - 0s - loss: 0.6932 - accuracy: 0.4933 - 230ms/epoch - 1ms/step\n",
      "Epoch 9/30\n",
      "210/210 - 0s - loss: 0.6932 - accuracy: 0.4952 - 232ms/epoch - 1ms/step\n",
      "Epoch 10/30\n",
      "210/210 - 0s - loss: 0.6932 - accuracy: 0.4986 - 240ms/epoch - 1ms/step\n",
      "Epoch 11/30\n",
      "210/210 - 0s - loss: 0.6932 - accuracy: 0.4862 - 229ms/epoch - 1ms/step\n",
      "Epoch 12/30\n",
      "210/210 - 0s - loss: 0.6932 - accuracy: 0.4929 - 231ms/epoch - 1ms/step\n",
      "Epoch 13/30\n",
      "210/210 - 0s - loss: 0.6932 - accuracy: 0.5010 - 224ms/epoch - 1ms/step\n",
      "Epoch 14/30\n",
      "210/210 - 0s - loss: 0.6932 - accuracy: 0.5062 - 232ms/epoch - 1ms/step\n",
      "Epoch 15/30\n",
      "210/210 - 0s - loss: 0.6932 - accuracy: 0.4957 - 250ms/epoch - 1ms/step\n",
      "Epoch 16/30\n",
      "210/210 - 0s - loss: 0.6932 - accuracy: 0.5033 - 239ms/epoch - 1ms/step\n",
      "Epoch 17/30\n",
      "210/210 - 0s - loss: 0.6932 - accuracy: 0.5086 - 249ms/epoch - 1ms/step\n",
      "Epoch 18/30\n",
      "210/210 - 0s - loss: 0.6932 - accuracy: 0.4919 - 262ms/epoch - 1ms/step\n",
      "Epoch 19/30\n",
      "210/210 - 0s - loss: 0.6932 - accuracy: 0.4919 - 264ms/epoch - 1ms/step\n",
      "Epoch 20/30\n",
      "210/210 - 0s - loss: 0.6932 - accuracy: 0.5000 - 261ms/epoch - 1ms/step\n",
      "Epoch 21/30\n",
      "210/210 - 0s - loss: 0.6932 - accuracy: 0.5048 - 283ms/epoch - 1ms/step\n",
      "Epoch 22/30\n",
      "210/210 - 0s - loss: 0.6932 - accuracy: 0.4929 - 261ms/epoch - 1ms/step\n",
      "Epoch 23/30\n",
      "210/210 - 0s - loss: 0.6932 - accuracy: 0.5062 - 268ms/epoch - 1ms/step\n",
      "Epoch 24/30\n",
      "210/210 - 0s - loss: 0.6932 - accuracy: 0.5024 - 291ms/epoch - 1ms/step\n",
      "Epoch 25/30\n",
      "210/210 - 0s - loss: 0.6932 - accuracy: 0.4990 - 297ms/epoch - 1ms/step\n",
      "Epoch 26/30\n",
      "210/210 - 0s - loss: 0.6932 - accuracy: 0.4995 - 274ms/epoch - 1ms/step\n",
      "Epoch 27/30\n",
      "210/210 - 0s - loss: 0.6932 - accuracy: 0.4943 - 286ms/epoch - 1ms/step\n",
      "Epoch 28/30\n",
      "210/210 - 0s - loss: 0.6932 - accuracy: 0.4952 - 248ms/epoch - 1ms/step\n",
      "Epoch 29/30\n",
      "210/210 - 0s - loss: 0.6932 - accuracy: 0.5043 - 266ms/epoch - 1ms/step\n",
      "Epoch 30/30\n",
      "210/210 - 0s - loss: 0.6932 - accuracy: 0.5029 - 238ms/epoch - 1ms/step\n"
     ]
    },
    {
     "data": {
      "text/plain": [
       "<keras.callbacks.History at 0x103e27ffdf0>"
      ]
     },
     "execution_count": 112,
     "metadata": {},
     "output_type": "execute_result"
    }
   ],
   "source": [
    "model.fit(x=scaled_train_samples, y=np.array(train_labels), batch_size=10, epochs=30, shuffle=True, verbose=2)"
   ]
  },
  {
   "cell_type": "code",
   "execution_count": 108,
   "id": "ade8de5a",
   "metadata": {},
   "outputs": [
    {
     "name": "stdout",
     "output_type": "stream",
     "text": [
      "<class 'numpy.ndarray'>\n"
     ]
    }
   ],
   "source": []
  }
 ],
 "metadata": {
  "kernelspec": {
   "display_name": "Python 3 (ipykernel)",
   "language": "python",
   "name": "python3"
  },
  "language_info": {
   "codemirror_mode": {
    "name": "ipython",
    "version": 3
   },
   "file_extension": ".py",
   "mimetype": "text/x-python",
   "name": "python",
   "nbconvert_exporter": "python",
   "pygments_lexer": "ipython3",
   "version": "3.9.13"
  }
 },
 "nbformat": 4,
 "nbformat_minor": 5
}
